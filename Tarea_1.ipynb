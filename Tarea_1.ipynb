{
  "metadata": {
    "kernelspec": {
      "name": "python",
      "display_name": "Python (Pyodide)",
      "language": "python"
    },
    "language_info": {
      "codemirror_mode": {
        "name": "python",
        "version": 3
      },
      "file_extension": ".py",
      "mimetype": "text/x-python",
      "name": "python",
      "nbconvert_exporter": "python",
      "pygments_lexer": "ipython3",
      "version": "3.8"
    }
  },
  "nbformat_minor": 4,
  "nbformat": 4,
  "cells": [
    {
      "cell_type": "markdown",
      "source": "# Tarea_1 ",
      "metadata": {}
    },
    {
      "cell_type": "markdown",
      "source": "**3.- Introducción:**\n\nComo tarea final se aprovechara lo aprendido en el curso Jupyterlite para crear  Jupyterlite Notebook (en inglés) el cual se compartirá a travez de un enlace público de GitHub.",
      "metadata": {}
    },
    {
      "cell_type": "markdown",
      "source": "**4.- Some of the popular languages that Data Scientists use are:**\n1. Python\n2. R\n3. SQL",
      "metadata": {}
    },
    {
      "cell_type": "markdown",
      "source": "**5.- Some of the commonly used libraries used by Data Scientists include:**\n1. NumPy\n2. Pandas\n3. Matplotlib\n4. Scikit-learn\n5. TensorFlow",
      "metadata": {}
    },
    {
      "cell_type": "markdown",
      "source": "\n**6.- Data Science Tools**\n|Data Science tools |\n|-------------------|\n| Jupyter Notebook  |\n| RStudio           |\n| Apache Zeppelin   |",
      "metadata": {}
    },
    {
      "cell_type": "markdown",
      "source": "**7.-Create a markdown cell introducing arithmetic expression examples.**",
      "metadata": {}
    },
    {
      "cell_type": "markdown",
      "source": "## Ejemplos de Expresiones Aritméticas\n\nLas expresiones aritméticas son combinaciones de números y operadores que se desarrollan para obtener un resultado. En Python, los operadores mas comunes son  + (suma), - (resta), * (multiplicación) y / (división). En el siguiente ejercicio, se puede apreciar una expresión aritmética.",
      "metadata": {}
    },
    {
      "cell_type": "markdown",
      "source": "**8.- Create a code cell to multiply and add numbers**",
      "metadata": {}
    },
    {
      "cell_type": "code",
      "source": "result = (7 * 8) + 8\nprint(result)",
      "metadata": {
        "trusted": true
      },
      "outputs": [
        {
          "name": "stdout",
          "text": "64\n",
          "output_type": "stream"
        }
      ],
      "execution_count": 20
    },
    {
      "cell_type": "markdown",
      "source": "**9.- Create a code cell to convert minutes to hours**",
      "metadata": {}
    },
    {
      "cell_type": "code",
      "source": "# Para pasar de minutos a hora se debe dividir por 60.\nminutes = 1467\nhours = minutes / 60\nprint(\"1467 minutos\", \"son\",hours,\"hrs\")",
      "metadata": {
        "trusted": true
      },
      "outputs": [
        {
          "name": "stdout",
          "text": "1467 minutos son 24.45 hrs\n",
          "output_type": "stream"
        }
      ],
      "execution_count": 28
    },
    {
      "cell_type": "markdown",
      "source": "**10.- Insert a markdown cell to list Objectives.**\n\n**Objetivos:**\n\n- Listar lenguajes de la Ciencia de Datos.\n- Identificar bibliotecas.\n- Explorar herramientas utilizadas en la Ciencia de Datos.\n- Desarrollar ejemplos de operaciones aritméticas en Python.\n- Efectuar conversión de minutos a horas.\n- Realizar operaciones aritméticas de forma clara y efectiva.\n- Compartir trabajo en GitHub.",
      "metadata": {}
    },
    {
      "cell_type": "markdown",
      "source": "**11.- Create a markdown cell to indicate the Author’s name.**\n\n### Autor\nAndrés Barrera",
      "metadata": {}
    },
    {
      "cell_type": "code",
      "source": "",
      "metadata": {
        "trusted": true
      },
      "outputs": [],
      "execution_count": null
    }
  ]
}